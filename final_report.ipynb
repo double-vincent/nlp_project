{
 "cells": [
  {
   "cell_type": "markdown",
   "metadata": {},
   "source": [
    "# Introduction"
   ]
  },
  {
   "cell_type": "markdown",
   "metadata": {},
   "source": [
    ">* Hello, our names are Vincent and J. Vincent Shorter"
   ]
  },
  {
   "cell_type": "markdown",
   "metadata": {},
   "source": [
    "## Project Objective \n",
    ">* This project runs through the entire Data Science Pipeline and culminates with classification modelling techniques based upon Natural Langauge Processing outcomes.\n",
    ">* This is a project attempting to construct a ML model to predict a github repository coding language based on just the project README file. "
   ]
  },
  {
   "cell_type": "markdown",
   "metadata": {},
   "source": [
    "## Executive Summary\n"
   ]
  },
  {
   "cell_type": "markdown",
   "metadata": {},
   "source": [
    ">* Analysis of the data showed that unemployment rates are fairly small across most population groups\n"
   ]
  },
  {
   "cell_type": "markdown",
   "metadata": {},
   "source": [
    "# Import Section"
   ]
  },
  {
   "cell_type": "code",
   "execution_count": null,
   "metadata": {},
   "outputs": [],
   "source": [
    "import pandas as pd\n",
    "import model\n",
    "import wrangle\n",
    "\n",
    "from importlib import reload\n",
    "reload(model)\n",
    "\n",
    "import warnings\n",
    "warnings.filterwarnings(\"ignore\")"
   ]
  },
  {
   "cell_type": "markdown",
   "metadata": {},
   "source": [
    "# Wrangle (Acquire and Prep)\n",
    "> * \n",
    "\n",
    "### Nulls/Missing Values\n",
    "> * \n",
    "---\n",
    "### Feature Engineering \n",
    "> * Engineered `word_count` in order to facilitate analysis around column length and unique word density\n",
    "> * \n",
    "---   \n",
    "### Flattening\n",
    "> * Had to make decisions in order to remove optionality from language column due to sample size \n",
    "> - Went from around 17 languages down to 7 by creating an `other` category for the less popular langauges\n",
    "> * Decisons here driven mostly by desire to have enough observations for effective analysis \n",
    "---\n"
   ]
  },
  {
   "cell_type": "markdown",
   "metadata": {},
   "source": [
    "## Exploration Questions \n",
    "* Includes visualizations and statistical tests\n",
    "* Primarily focused on items that appear on the typical resume or job application"
   ]
  },
  {
   "cell_type": "code",
   "execution_count": null,
   "metadata": {},
   "outputs": [],
   "source": [
    "#calling prepare/acquire functions from module to acquire and split data subsets\n",
    "df = wrangle.prep_aug()\n",
    "train, validate, test, train_scaled, validate_scaled, test_scaled = wrangle.split_scale(df, 'y')"
   ]
  },
  {
   "cell_type": "markdown",
   "metadata": {},
   "source": [
    "### Spotlight - Commong Words \n",
    "* **Question:** What are the most common words in READMEs?\n",
    "* **Answer:** \n",
    "\n",
    "#### Statistical Hypothesis\n",
    ">* ${H_0}$: There is no relationship between industry of typical employment and employment status   \n",
    ">* ${H_a}$: There is a relationship between industry of typical employment and employment status  \n",
    ">* ${\\alpha}$: .05  \n",
    ">* Result: There is enough evidence to reject our null hypothesis. **Test code below**"
   ]
  },
  {
   "cell_type": "code",
   "execution_count": null,
   "metadata": {},
   "outputs": [
    {
     "name": "stdout",
     "output_type": "stream",
     "text": [
      "chi^2: 157.9437\n",
      "p: 0.0000\n",
      "degrees of freedom: 13\n",
      "Reject null hypothesis\n"
     ]
    },
    {
     "data": {
      "text/plain": [
       "<Figure size 1440x432 with 0 Axes>"
      ]
     },
     "metadata": {},
     "output_type": "display_data"
    },
    {
     "data": {
      "image/png": "[encoded data removed]",
      "text/plain": [
       "<Figure size 720x360 with 2 Axes>"
      ]
     },
     "metadata": {},
     "output_type": "display_data"
    },
    {
     "data": {
      "text/html": [
       "<div>\n",
       "<style scoped>\n",
       "    .dataframe tbody tr th:only-of-type {\n",
       "        vertical-align: middle;\n",
       "    }\n",
       "\n",
       "    .dataframe tbody tr th {\n",
       "        vertical-align: top;\n",
       "    }\n",
       "\n",
       "    .dataframe thead tr th {\n",
       "        text-align: left;\n",
       "    }\n",
       "\n",
       "    .dataframe thead tr:last-of-type th {\n",
       "        text-align: right;\n",
       "    }\n",
       "</style>\n",
       "<table border=\"1\" class=\"dataframe\">\n",
       "  <thead>\n",
       "    <tr>\n",
       "      <th></th>\n",
       "      <th colspan=\"3\" halign=\"left\">population_proportions</th>\n",
       "      <th>unemployment_rate</th>\n",
       "    </tr>\n",
       "    <tr>\n",
       "      <th></th>\n",
       "      <th>employed</th>\n",
       "      <th>unemployed</th>\n",
       "      <th>change</th>\n",
       "      <th></th>\n",
       "    </tr>\n",
       "    <tr>\n",
       "      <th>industry</th>\n",
       "      <th></th>\n",
       "      <th></th>\n",
       "      <th></th>\n",
       "      <th></th>\n",
       "    </tr>\n",
       "  </thead>\n",
       "  <tbody>\n",
       "    <tr>\n",
       "      <th>14.0</th>\n",
       "      <td>NaN</td>\n",
       "      <td>0.003</td>\n",
       "      <td>NaN</td>\n",
       "      <td>1.00</td>\n",
       "    </tr>\n",
       "    <tr>\n",
       "      <th>11.0</th>\n",
       "      <td>0.085</td>\n",
       "      <td>0.139</td>\n",
       "      <td>-0.054</td>\n",
       "      <td>0.05</td>\n",
       "    </tr>\n",
       "    <tr>\n",
       "      <th>2.0</th>\n",
       "      <td>0.005</td>\n",
       "      <td>0.009</td>\n",
       "      <td>-0.003</td>\n",
       "      <td>0.05</td>\n",
       "    </tr>\n",
       "    <tr>\n",
       "      <th>1.0</th>\n",
       "      <td>0.018</td>\n",
       "      <td>0.021</td>\n",
       "      <td>-0.003</td>\n",
       "      <td>0.04</td>\n",
       "    </tr>\n",
       "    <tr>\n",
       "      <th>7.0</th>\n",
       "      <td>0.017</td>\n",
       "      <td>0.020</td>\n",
       "      <td>-0.003</td>\n",
       "      <td>0.04</td>\n",
       "    </tr>\n",
       "    <tr>\n",
       "      <th>5.0</th>\n",
       "      <td>0.121</td>\n",
       "      <td>0.139</td>\n",
       "      <td>-0.017</td>\n",
       "      <td>0.04</td>\n",
       "    </tr>\n",
       "    <tr>\n",
       "      <th>3.0</th>\n",
       "      <td>0.077</td>\n",
       "      <td>0.081</td>\n",
       "      <td>-0.003</td>\n",
       "      <td>0.03</td>\n",
       "    </tr>\n",
       "    <tr>\n",
       "      <th>9.0</th>\n",
       "      <td>0.130</td>\n",
       "      <td>0.133</td>\n",
       "      <td>-0.003</td>\n",
       "      <td>0.03</td>\n",
       "    </tr>\n",
       "    <tr>\n",
       "      <th>6.0</th>\n",
       "      <td>0.058</td>\n",
       "      <td>0.057</td>\n",
       "      <td>0.001</td>\n",
       "      <td>0.03</td>\n",
       "    </tr>\n",
       "    <tr>\n",
       "      <th>10.0</th>\n",
       "      <td>0.219</td>\n",
       "      <td>0.212</td>\n",
       "      <td>0.007</td>\n",
       "      <td>0.03</td>\n",
       "    </tr>\n",
       "    <tr>\n",
       "      <th>12.0</th>\n",
       "      <td>0.052</td>\n",
       "      <td>0.050</td>\n",
       "      <td>0.002</td>\n",
       "      <td>0.03</td>\n",
       "    </tr>\n",
       "    <tr>\n",
       "      <th>4.0</th>\n",
       "      <td>0.097</td>\n",
       "      <td>0.082</td>\n",
       "      <td>0.015</td>\n",
       "      <td>0.03</td>\n",
       "    </tr>\n",
       "    <tr>\n",
       "      <th>8.0</th>\n",
       "      <td>0.067</td>\n",
       "      <td>0.035</td>\n",
       "      <td>0.032</td>\n",
       "      <td>0.02</td>\n",
       "    </tr>\n",
       "    <tr>\n",
       "      <th>13.0</th>\n",
       "      <td>0.054</td>\n",
       "      <td>0.021</td>\n",
       "      <td>0.033</td>\n",
       "      <td>0.01</td>\n",
       "    </tr>\n",
       "  </tbody>\n",
       "</table>\n",
       "</div>"
      ],
      "text/plain": [
       "         population_proportions                   unemployment_rate\n",
       "                       employed unemployed change                  \n",
       "industry                                                           \n",
       "14.0                        NaN      0.003    NaN              1.00\n",
       "11.0                      0.085      0.139 -0.054              0.05\n",
       "2.0                       0.005      0.009 -0.003              0.05\n",
       "1.0                       0.018      0.021 -0.003              0.04\n",
       "7.0                       0.017      0.020 -0.003              0.04\n",
       "5.0                       0.121      0.139 -0.017              0.04\n",
       "3.0                       0.077      0.081 -0.003              0.03\n",
       "9.0                       0.130      0.133 -0.003              0.03\n",
       "6.0                       0.058      0.057  0.001              0.03\n",
       "10.0                      0.219      0.212  0.007              0.03\n",
       "12.0                      0.052      0.050  0.002              0.03\n",
       "4.0                       0.097      0.082  0.015              0.03\n",
       "8.0                       0.067      0.035  0.032              0.02\n",
       "13.0                      0.054      0.021  0.033              0.01"
      ]
     },
     "metadata": {},
     "output_type": "display_data"
    }
   ],
   "source": [
    "#calls function to display visuals and results of statistical analysis and testing\n",
    "model.spotlight_stats(train, 'industry', 'Leisure and Hospitality with largest change')"
   ]
  },
  {
   "cell_type": "markdown",
   "metadata": {},
   "source": [
    "1\tAgriculture, forestry, fishing, and hunting\t\t\n",
    "\t\n",
    "2\tMining\t\t\n",
    "\n",
    "3\tConstruction  \t\n",
    "\n",
    "4\tManufacturing  \t\t\t\n",
    "\n",
    "5\tWholesale and retail trade\t  \n",
    "\n",
    "6\tTransportation and utilities\t \n",
    "\n",
    "7\tInformation\t  \t\t\t\n",
    "\n",
    "8\tFinancial activities\t  \t\n",
    "\n",
    "9\tProfessional and business services\t  \t\n",
    "\n",
    "10\tEducational and health services\t\t\n",
    "\n",
    "11\tLeisure and hospitality\t  \t\t\n",
    "\n",
    "12\tOther services\t\t  \t\t\t\n",
    "\n",
    "13\tPublic administration\t  \t\t\n",
    "\t\t\t\t\t\n",
    "14\tArmed Forces  "
   ]
  },
  {
   "cell_type": "markdown",
   "metadata": {},
   "source": [
    "### Spotlight - README Length\n",
    "* **Question:** Does the length of the README vary by programming language?\n",
    "\n",
    "* **Answer:** Indivduals identifying as White show the largest population proportion change with a drop of nearly 10% when comparing employed vs unemployed. Those identifying as mixed race other than with white, and Indigenous have the highest unemployed rates at 12% and 7% respectively. \n",
    "\n",
    "#### Statistical Hypothesis\n",
    ">* ${H_0}$: There is no relationship between `race` and `employment` status   \n",
    ">* ${H_a}$: There is a relationship between `race` and `employment` status   \n",
    ">* ${\\alpha}$: .05  \n",
    ">* Result: There is enough evidence to reject our null hypothesis. **Test code below**"
   ]
  },
  {
   "cell_type": "code",
   "execution_count": null,
   "metadata": {},
   "outputs": [
    {
     "name": "stdout",
     "output_type": "stream",
     "text": [
      "chi^2: 62.1129\n",
      "p: 0.0000\n",
      "degrees of freedom: 6\n",
      "Reject null hypothesis\n"
     ]
    },
    {
     "data": {
      "text/plain": [
       "<Figure size 1440x432 with 0 Axes>"
      ]
     },
     "metadata": {},
     "output_type": "display_data"
    },
    {
     "data": {
      "image/png": "[encoded data removed]",
      "text/plain": [
       "<Figure size 720x360 with 2 Axes>"
      ]
     },
     "metadata": {},
     "output_type": "display_data"
    },
    {
     "data": {
      "text/html": [
       "<div>\n",
       "<style scoped>\n",
       "    .dataframe tbody tr th:only-of-type {\n",
       "        vertical-align: middle;\n",
       "    }\n",
       "\n",
       "    .dataframe tbody tr th {\n",
       "        vertical-align: top;\n",
       "    }\n",
       "\n",
       "    .dataframe thead tr th {\n",
       "        text-align: left;\n",
       "    }\n",
       "\n",
       "    .dataframe thead tr:last-of-type th {\n",
       "        text-align: right;\n",
       "    }\n",
       "</style>\n",
       "<table border=\"1\" class=\"dataframe\">\n",
       "  <thead>\n",
       "    <tr>\n",
       "      <th></th>\n",
       "      <th colspan=\"3\" halign=\"left\">population_proportions</th>\n",
       "      <th>unemployment_rate</th>\n",
       "    </tr>\n",
       "    <tr>\n",
       "      <th></th>\n",
       "      <th>employed</th>\n",
       "      <th>unemployed</th>\n",
       "      <th>change</th>\n",
       "      <th></th>\n",
       "    </tr>\n",
       "    <tr>\n",
       "      <th>race</th>\n",
       "      <th></th>\n",
       "      <th></th>\n",
       "      <th></th>\n",
       "      <th></th>\n",
       "    </tr>\n",
       "  </thead>\n",
       "  <tbody>\n",
       "    <tr>\n",
       "      <th>mixed_white</th>\n",
       "      <td>0.015</td>\n",
       "      <td>0.026</td>\n",
       "      <td>-0.011</td>\n",
       "      <td>0.05</td>\n",
       "    </tr>\n",
       "    <tr>\n",
       "      <th>black</th>\n",
       "      <td>0.099</td>\n",
       "      <td>0.168</td>\n",
       "      <td>-0.069</td>\n",
       "      <td>0.05</td>\n",
       "    </tr>\n",
       "    <tr>\n",
       "      <th>HI/PI</th>\n",
       "      <td>0.005</td>\n",
       "      <td>0.008</td>\n",
       "      <td>-0.002</td>\n",
       "      <td>0.04</td>\n",
       "    </tr>\n",
       "    <tr>\n",
       "      <th>AI/NA</th>\n",
       "      <td>0.011</td>\n",
       "      <td>0.014</td>\n",
       "      <td>-0.003</td>\n",
       "      <td>0.04</td>\n",
       "    </tr>\n",
       "    <tr>\n",
       "      <th>white</th>\n",
       "      <td>0.799</td>\n",
       "      <td>0.741</td>\n",
       "      <td>0.058</td>\n",
       "      <td>0.03</td>\n",
       "    </tr>\n",
       "    <tr>\n",
       "      <th>asian</th>\n",
       "      <td>0.066</td>\n",
       "      <td>0.041</td>\n",
       "      <td>0.024</td>\n",
       "      <td>0.02</td>\n",
       "    </tr>\n",
       "    <tr>\n",
       "      <th>mixed_other</th>\n",
       "      <td>0.003</td>\n",
       "      <td>0.001</td>\n",
       "      <td>0.002</td>\n",
       "      <td>0.01</td>\n",
       "    </tr>\n",
       "  </tbody>\n",
       "</table>\n",
       "</div>"
      ],
      "text/plain": [
       "            population_proportions                   unemployment_rate\n",
       "                          employed unemployed change                  \n",
       "race                                                                  \n",
       "mixed_white                  0.015      0.026 -0.011              0.05\n",
       "black                        0.099      0.168 -0.069              0.05\n",
       "HI/PI                        0.005      0.008 -0.002              0.04\n",
       "AI/NA                        0.011      0.014 -0.003              0.04\n",
       "white                        0.799      0.741  0.058              0.03\n",
       "asian                        0.066      0.041  0.024              0.02\n",
       "mixed_other                  0.003      0.001  0.002              0.01"
      ]
     },
     "metadata": {},
     "output_type": "display_data"
    }
   ],
   "source": [
    "#calls function to display visuals and results of statistical analysis and testing\n",
    "model.spotlight_stats(train, 'race', 'White with largest change')"
   ]
  },
  {
   "cell_type": "markdown",
   "metadata": {},
   "source": [
    "### Spotlight - Unique Words\n",
    "* **Question:** Do different programming languages use a different number of unique words?\n",
    " \n",
    "* **Answer:** \n",
    "\n",
    "#### Statistical Hypothesis\n",
    ">* ${H_0}$: There is no relationship between having a `professional_certification` and `employment`  \n",
    ">* ${H_a}$: There is a relationship between having a `professional_certification` and `employment`    \n",
    ">* ${\\alpha}$: .05\n",
    ">* Result: There is enough evidence to reject our null hypothesis. **Test code below**"
   ]
  },
  {
   "cell_type": "code",
   "execution_count": null,
   "metadata": {},
   "outputs": [
    {
     "name": "stdout",
     "output_type": "stream",
     "text": [
      "chi^2: 40.1235\n",
      "p: 0.0000\n",
      "degrees of freedom: 1\n",
      "Reject null hypothesis\n"
     ]
    },
    {
     "data": {
      "text/plain": [
       "<Figure size 1440x432 with 0 Axes>"
      ]
     },
     "metadata": {},
     "output_type": "display_data"
    },
    {
     "data": {
      "image/png": "[encoded data removed]",
      "text/plain": [
       "<Figure size 720x360 with 2 Axes>"
      ]
     },
     "metadata": {},
     "output_type": "display_data"
    },
    {
     "data": {
      "text/html": [
       "<div>\n",
       "<style scoped>\n",
       "    .dataframe tbody tr th:only-of-type {\n",
       "        vertical-align: middle;\n",
       "    }\n",
       "\n",
       "    .dataframe tbody tr th {\n",
       "        vertical-align: top;\n",
       "    }\n",
       "\n",
       "    .dataframe thead tr th {\n",
       "        text-align: left;\n",
       "    }\n",
       "\n",
       "    .dataframe thead tr:last-of-type th {\n",
       "        text-align: right;\n",
       "    }\n",
       "</style>\n",
       "<table border=\"1\" class=\"dataframe\">\n",
       "  <thead>\n",
       "    <tr>\n",
       "      <th></th>\n",
       "      <th colspan=\"3\" halign=\"left\">population_proportions</th>\n",
       "      <th>unemployment_rate</th>\n",
       "    </tr>\n",
       "    <tr>\n",
       "      <th></th>\n",
       "      <th>employed</th>\n",
       "      <th>unemployed</th>\n",
       "      <th>change</th>\n",
       "      <th></th>\n",
       "    </tr>\n",
       "    <tr>\n",
       "      <th>professional_certification</th>\n",
       "      <th></th>\n",
       "      <th></th>\n",
       "      <th></th>\n",
       "      <th></th>\n",
       "    </tr>\n",
       "  </thead>\n",
       "  <tbody>\n",
       "    <tr>\n",
       "      <th>0</th>\n",
       "      <td>0.748</td>\n",
       "      <td>0.841</td>\n",
       "      <td>-0.093</td>\n",
       "      <td>0.04</td>\n",
       "    </tr>\n",
       "    <tr>\n",
       "      <th>1</th>\n",
       "      <td>0.252</td>\n",
       "      <td>0.159</td>\n",
       "      <td>0.093</td>\n",
       "      <td>0.02</td>\n",
       "    </tr>\n",
       "  </tbody>\n",
       "</table>\n",
       "</div>"
      ],
      "text/plain": [
       "                           population_proportions                    \\\n",
       "                                         employed unemployed change   \n",
       "professional_certification                                            \n",
       "0                                           0.748      0.841 -0.093   \n",
       "1                                           0.252      0.159  0.093   \n",
       "\n",
       "                           unemployment_rate  \n",
       "                                              \n",
       "professional_certification                    \n",
       "0                                       0.04  \n",
       "1                                       0.02  "
      ]
     },
     "metadata": {},
     "output_type": "display_data"
    }
   ],
   "source": [
    "#calls function to display visuals and results of statistical analysis and testing\n",
    "model.spotlight_stats(train, 'professional_certification', 'Better to have certification')"
   ]
  },
  {
   "cell_type": "markdown",
   "metadata": {},
   "source": [
    "### Spotlight - Language ID by Word\n",
    "* **Question:** Are there any words that uniquely identify a programming language?\n",
    " \n",
    "* **Answer:** \n",
    "\n",
    "#### Statistical Hypothesis\n",
    ">* ${H_0}$: There is no relationship between having a `professional_certification` and `employment`  \n",
    ">* ${H_a}$: There is a relationship between having a `professional_certification` and `employment`    \n",
    ">* ${\\alpha}$: .05\n",
    ">* Result: There is enough evidence to reject our null hypothesis. **Test code below**"
   ]
  },
  {
   "cell_type": "code",
   "execution_count": null,
   "metadata": {},
   "outputs": [
    {
     "name": "stdout",
     "output_type": "stream",
     "text": [
      "chi^2: 40.1235\n",
      "p: 0.0000\n",
      "degrees of freedom: 1\n",
      "Reject null hypothesis\n"
     ]
    },
    {
     "data": {
      "text/plain": [
       "<Figure size 1440x432 with 0 Axes>"
      ]
     },
     "metadata": {},
     "output_type": "display_data"
    },
    {
     "data": {
      "image/png": "[encoded data removed]",
      "text/plain": [
       "<Figure size 720x360 with 2 Axes>"
      ]
     },
     "metadata": {},
     "output_type": "display_data"
    },
    {
     "data": {
      "text/html": [
       "<div>\n",
       "<style scoped>\n",
       "    .dataframe tbody tr th:only-of-type {\n",
       "        vertical-align: middle;\n",
       "    }\n",
       "\n",
       "    .dataframe tbody tr th {\n",
       "        vertical-align: top;\n",
       "    }\n",
       "\n",
       "    .dataframe thead tr th {\n",
       "        text-align: left;\n",
       "    }\n",
       "\n",
       "    .dataframe thead tr:last-of-type th {\n",
       "        text-align: right;\n",
       "    }\n",
       "</style>\n",
       "<table border=\"1\" class=\"dataframe\">\n",
       "  <thead>\n",
       "    <tr>\n",
       "      <th></th>\n",
       "      <th colspan=\"3\" halign=\"left\">population_proportions</th>\n",
       "      <th>unemployment_rate</th>\n",
       "    </tr>\n",
       "    <tr>\n",
       "      <th></th>\n",
       "      <th>employed</th>\n",
       "      <th>unemployed</th>\n",
       "      <th>change</th>\n",
       "      <th></th>\n",
       "    </tr>\n",
       "    <tr>\n",
       "      <th>professional_certification</th>\n",
       "      <th></th>\n",
       "      <th></th>\n",
       "      <th></th>\n",
       "      <th></th>\n",
       "    </tr>\n",
       "  </thead>\n",
       "  <tbody>\n",
       "    <tr>\n",
       "      <th>0</th>\n",
       "      <td>0.748</td>\n",
       "      <td>0.841</td>\n",
       "      <td>-0.093</td>\n",
       "      <td>0.04</td>\n",
       "    </tr>\n",
       "    <tr>\n",
       "      <th>1</th>\n",
       "      <td>0.252</td>\n",
       "      <td>0.159</td>\n",
       "      <td>0.093</td>\n",
       "      <td>0.02</td>\n",
       "    </tr>\n",
       "  </tbody>\n",
       "</table>\n",
       "</div>"
      ],
      "text/plain": [
       "                           population_proportions                    \\\n",
       "                                         employed unemployed change   \n",
       "professional_certification                                            \n",
       "0                                           0.748      0.841 -0.093   \n",
       "1                                           0.252      0.159  0.093   \n",
       "\n",
       "                           unemployment_rate  \n",
       "                                              \n",
       "professional_certification                    \n",
       "0                                       0.04  \n",
       "1                                       0.02  "
      ]
     },
     "metadata": {},
     "output_type": "display_data"
    }
   ],
   "source": [
    "#calls function to display visuals and results of statistical analysis and testing\n",
    "model.spotlight_stats(train, 'professional_certification', 'Better to have certification')"
   ]
  },
  {
   "cell_type": "markdown",
   "metadata": {},
   "source": [
    "## Exploration Summary\n",
    "* "
   ]
  },
  {
   "cell_type": "markdown",
   "metadata": {},
   "source": []
  },
  {
   "cell_type": "markdown",
   "metadata": {},
   "source": [
    "# Modeling\n",
    "* Models process was initially guided by Accuracy due to multi-class nature of problem\n",
    "\n",
    "* Initial testing seemed promising as models were performing well above the `27%` baseline prediction on the train subset\n",
    "\n",
    "* Validation set performance was terrible, and caused a necessary rewrite of our acquire py. \n",
    "\n",
    "* \n",
    "\n",
    "## Features for Modeling\n",
    "* Grouped by simple features: `word_count`, `lemmatized`\n",
    "\n",
    "* `word_count`\n",
    "    - Chosen to highlight the business oriented concerns around employement\n",
    "    ---\n",
    "* `lemmatized`\n",
    "    - Highlights family and environment characteristics\n",
    "    ---\n"
   ]
  },
  {
   "cell_type": "markdown",
   "metadata": {},
   "source": [
    "## Top Models"
   ]
  },
  {
   "cell_type": "markdown",
   "metadata": {},
   "source": [
    "## Validate\n",
    "* Exposed Top 5 models from train section to the Validate data\n",
    "* DTC models maintained highest performance profile througout all testing cohorts\n",
    "* Model:\n",
    "* Model:\n",
    "    - Name: LR_56\n",
    "    - Type: Logistic Regression\n",
    "    - C: `.5`\n",
    "    - Solver: `newton-cg`\n",
    "    - Weight: `balanced`    \n",
    "    - Features: ``\n",
    "* Model:\n",
    "    - Name: LR_36\n",
    "    - Type: Logistic Regression\n",
    "    - C: `.1`\n",
    "    - Solver: `lbfgs`\n",
    "    - Weight: `balanced`\n",
    "    - Features: `word_count`, `lemmatized`\n",
    "* Model:\n",
    "    - Name: LR_36\n",
    "    - Type: Logistic Regression\n",
    "    - C: `.1`\n",
    "    - Solver: `lbfgs`\n",
    "    - Weight: `balanced`\n",
    "    - Features: `word_count`, `lemmatized`\n",
    "* Model:\n",
    "    - Name: LR_36\n",
    "    - Type: Logistic Regression\n",
    "    - C: `.1`\n",
    "    - Solver: `lbfgs`\n",
    "    - Weight: `balanced`\n",
    "    - Features: `word_count`, `lemmatized`"
   ]
  },
  {
   "cell_type": "markdown",
   "metadata": {},
   "source": [
    "## Test\n",
    "* Best Performing Model:\n",
    "    - Name: LR_16\n",
    "    - Type: Logistic Regression\n",
    "    - C: `.1`\n",
    "    - Solver: `lbfgs`\n",
    "    - Weight: `balanced`\n",
    "    - Features: `household_num`, `children_in_household`, `education`, `enrolled_in_school`, `family_income`, `marital_status`"
   ]
  },
  {
   "cell_type": "markdown",
   "metadata": {},
   "source": [
    "# Conclusion\n",
    "## Summary of Key Findings\n",
    ">* \n",
    "---\n",
    "## Suggestions and Next Steps\n",
    ">* \n"
   ]
  }
 ],
 "metadata": {
  "kernelspec": {
   "display_name": "Python 3.9.12 ('base')",
   "language": "python",
   "name": "python3"
  },
  "language_info": {
   "name": "python",
   "version": "3.9.12"
  },
  "orig_nbformat": 4,
  "vscode": {
   "interpreter": {
    "hash": "38cca0c38332a56087b24af0bc80247f4fced29cb4f7f437d91dc159adec9c4e"
   }
  }
 },
 "nbformat": 4,
 "nbformat_minor": 2
}
