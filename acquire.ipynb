{
 "cells": [
  {
   "cell_type": "markdown",
   "metadata": {},
   "source": [
    "# Imports\n"
   ]
  },
  {
   "cell_type": "code",
   "execution_count": 104,
   "metadata": {},
   "outputs": [],
   "source": [
    "import pandas as pd\n",
    "from requests import get\n",
    "from bs4 import BeautifulSoup as soupify\n",
    "\n",
    "import acquire\n",
    "from importlib import reload"
   ]
  },
  {
   "cell_type": "markdown",
   "metadata": {},
   "source": [
    "# 2. News Articles\n",
    "\n",
    "We will now be scraping text data from inshorts, a website that provides a brief overview of many different topics.\n",
    "\n",
    "Write a function that scrapes the news articles for the following topics:\n",
    "\n",
    "    > Business\n",
    "    > Sports\n",
    "    > Technology\n",
    "    > Entertainment\n",
    "    \n",
    "The end product of this should be a function named get_news_articles that returns a list of dictionaries, where each dictionary has this shape:\n",
    "\n",
    "    {\n",
    "        'title': 'The article title',\n",
    "        'content': 'The article content',\n",
    "        'category': 'business' # for example\n",
    "    }    "
   ]
  },
  {
   "cell_type": "markdown",
   "metadata": {},
   "source": [
    "> Start by inspecting the website in your browser. Figure out which elements will be useful.\n",
    "    "
   ]
  },
  {
   "cell_type": "code",
   "execution_count": 33,
   "metadata": {},
   "outputs": [],
   "source": [
    "url='https://inshorts.com/en/read'\n",
    "soup=soupify(get(url).content)\n"
   ]
  },
  {
   "cell_type": "code",
   "execution_count": 36,
   "metadata": {},
   "outputs": [],
   "source": [
    "def get_cats (base_url):\n",
    "    \"\"\" \n",
    "    Purpose:\n",
    "        \n",
    "    ---\n",
    "    Parameters:\n",
    "        \n",
    "    ---\n",
    "    Returns:\n",
    "    \n",
    "    \"\"\"\n",
    "    soup = soupify(get(base_url).content)\n",
    "    return [category.text.lower() for category in soup.find_all('li')[1:]]"
   ]
  },
  {
   "cell_type": "markdown",
   "metadata": {},
   "source": [
    "> Start by creating a function that handles a single article and produces a dictionary like the one above.\n",
    "    "
   ]
  },
  {
   "cell_type": "code",
   "execution_count": 34,
   "metadata": {},
   "outputs": [
    {
     "data": {
      "text/plain": [
       "'india'"
      ]
     },
     "execution_count": 34,
     "metadata": {},
     "output_type": "execute_result"
    }
   ],
   "source": [
    "soup.find_all('li')[1].text.lower()"
   ]
  },
  {
   "cell_type": "code",
   "execution_count": 37,
   "metadata": {},
   "outputs": [
    {
     "data": {
      "text/plain": [
       "['india',\n",
       " 'business',\n",
       " 'sports',\n",
       " 'world',\n",
       " 'politics',\n",
       " 'technology',\n",
       " 'startup',\n",
       " 'entertainment',\n",
       " 'miscellaneous',\n",
       " 'hatke',\n",
       " 'science',\n",
       " 'automobile']"
      ]
     },
     "execution_count": 37,
     "metadata": {},
     "output_type": "execute_result"
    }
   ],
   "source": [
    "get_cats(url)"
   ]
  },
  {
   "cell_type": "code",
   "execution_count": 35,
   "metadata": {},
   "outputs": [
    {
     "data": {
      "text/plain": [
       "'https://inshorts.com/en/read/india'"
      ]
     },
     "execution_count": 35,
     "metadata": {},
     "output_type": "execute_result"
    }
   ],
   "source": [
    "url + '/' + soup.find_all('li')[1].text.lower()"
   ]
  },
  {
   "cell_type": "markdown",
   "metadata": {},
   "source": [
    "> Next create a function that will find all the articles on a single page and call the function you created in the last step for every article on the page.\n",
    "    "
   ]
  },
  {
   "cell_type": "code",
   "execution_count": 38,
   "metadata": {},
   "outputs": [],
   "source": [
    "cat_url = url + '/' + 'science'"
   ]
  },
  {
   "cell_type": "code",
   "execution_count": 39,
   "metadata": {},
   "outputs": [],
   "source": [
    "cat_soup = soupify(get(cat_url).content)\n",
    "\n"
   ]
  },
  {
   "cell_type": "code",
   "execution_count": 40,
   "metadata": {},
   "outputs": [
    {
     "data": {
      "text/plain": [
       "'New species of beetle named after Novak Djokovic'"
      ]
     },
     "execution_count": 40,
     "metadata": {},
     "output_type": "execute_result"
    }
   ],
   "source": [
    "cat_soup.find_all('span', itemprop='headline')[0].text\n"
   ]
  },
  {
   "cell_type": "markdown",
   "metadata": {},
   "source": [
    "> Now create a function that will use the previous two functions to scrape the articles from all the pages that you need, and do any additional processing that needs to be done.\n",
    "    \n",
    "    \n",
    "    \n"
   ]
  },
  {
   "cell_type": "code",
   "execution_count": 97,
   "metadata": {},
   "outputs": [],
   "source": [
    "def get_news_articles(fresh=False, base_url='https://inshorts.com/en/read'):\n",
    "    \"\"\" \n",
    "    Purpose:\n",
    "        \n",
    "    ---\n",
    "    Parameters:\n",
    "        \n",
    "    ---\n",
    "    Returns:\n",
    "    \n",
    "    \"\"\"\n",
    "    if fresh == False:\n",
    "        all_articles = pd.read_csv('news_articles.csv')\n",
    "        return all_articles\n",
    "\n",
    "    #categories = get_cats(base_url)\n",
    "    categories = ['business', 'sports', 'technology',  'entertainment']\n",
    "    all_articles = []\n",
    "\n",
    "    for category in categories:\n",
    "        url = base_url + '/' + category\n",
    "        soup = soupify(get(url).content)\n",
    "        titles = [title.text for title in soup\n",
    "                    .find_all('span', itemprop='headline')]\n",
    "        bodies = [body.text for body in soup\n",
    "                    .find_all('div', itemprop='articleBody')]\n",
    "        articles = [{'title': title, \n",
    "                        'category': category,\n",
    "                        'body': body} for title, body in zip(\n",
    "                            titles, bodies\n",
    "                        )]\n",
    "        all_articles.extend(articles)\n",
    "    \n",
    "    all_articles = pd.DataFrame(all_articles)\n",
    "    all_articles.to_csv('news_articles.csv', index=False)\n",
    "\n",
    "    return all_articles"
   ]
  },
  {
   "cell_type": "code",
   "execution_count": 101,
   "metadata": {},
   "outputs": [],
   "source": [
    "all_articles = get_news_articles()"
   ]
  },
  {
   "cell_type": "code",
   "execution_count": 102,
   "metadata": {},
   "outputs": [
    {
     "data": {
      "text/html": [
       "<div>\n",
       "<style scoped>\n",
       "    .dataframe tbody tr th:only-of-type {\n",
       "        vertical-align: middle;\n",
       "    }\n",
       "\n",
       "    .dataframe tbody tr th {\n",
       "        vertical-align: top;\n",
       "    }\n",
       "\n",
       "    .dataframe thead th {\n",
       "        text-align: right;\n",
       "    }\n",
       "</style>\n",
       "<table border=\"1\" class=\"dataframe\">\n",
       "  <thead>\n",
       "    <tr style=\"text-align: right;\">\n",
       "      <th></th>\n",
       "      <th>title</th>\n",
       "      <th>category</th>\n",
       "      <th>body</th>\n",
       "    </tr>\n",
       "  </thead>\n",
       "  <tbody>\n",
       "    <tr>\n",
       "      <th>0</th>\n",
       "      <td>Nikhil Chinapa shares video of cockroach on Vi...</td>\n",
       "      <td>business</td>\n",
       "      <td>DJ Nikhil Chinapa has asked Vistara airline to...</td>\n",
       "    </tr>\n",
       "    <tr>\n",
       "      <th>1</th>\n",
       "      <td>Russia can destroy US, Europe within 30 minute...</td>\n",
       "      <td>business</td>\n",
       "      <td>The world's richest person Elon Musk on Saturd...</td>\n",
       "    </tr>\n",
       "    <tr>\n",
       "      <th>2</th>\n",
       "      <td>'Make-in-India' record-breaker: Piyush Goyal a...</td>\n",
       "      <td>business</td>\n",
       "      <td>Union Commerce Minister Piyush Goyal lauded th...</td>\n",
       "    </tr>\n",
       "    <tr>\n",
       "      <th>3</th>\n",
       "      <td>What are the rates at which employees are leav...</td>\n",
       "      <td>business</td>\n",
       "      <td>Infosys has reported an attrition rate of 27.1...</td>\n",
       "    </tr>\n",
       "    <tr>\n",
       "      <th>4</th>\n",
       "      <td>Tata Power hit by cyberattack, says 'all criti...</td>\n",
       "      <td>business</td>\n",
       "      <td>Tata Power has confirmed that it was hit by a ...</td>\n",
       "    </tr>\n",
       "    <tr>\n",
       "      <th>...</th>\n",
       "      <td>...</td>\n",
       "      <td>...</td>\n",
       "      <td>...</td>\n",
       "    </tr>\n",
       "    <tr>\n",
       "      <th>95</th>\n",
       "      <td>Film on RSS founder KB Hedgewar in the works</td>\n",
       "      <td>entertainment</td>\n",
       "      <td>\\nA biopic on RSS founder KB Hedgewar is in ea...</td>\n",
       "    </tr>\n",
       "    <tr>\n",
       "      <th>96</th>\n",
       "      <td>Filmmaker Vishal Bhardwaj buys new luxury apar...</td>\n",
       "      <td>entertainment</td>\n",
       "      <td>Vishal Bhardwaj has reportedly purchased a new...</td>\n",
       "    </tr>\n",
       "    <tr>\n",
       "      <th>97</th>\n",
       "      <td>It's an Indian spy-thriller without bikinis &amp; ...</td>\n",
       "      <td>entertainment</td>\n",
       "      <td>Actor Karthi, while speaking about his upcomin...</td>\n",
       "    </tr>\n",
       "    <tr>\n",
       "      <th>98</th>\n",
       "      <td>Was told 'Why're you dancing? Look after the h...</td>\n",
       "      <td>entertainment</td>\n",
       "      <td>Actress Madhuri Dixit in an interview spoke ab...</td>\n",
       "    </tr>\n",
       "    <tr>\n",
       "      <th>99</th>\n",
       "      <td>Nothing to criticise about Khushi's work in 'T...</td>\n",
       "      <td>entertainment</td>\n",
       "      <td>After watching the teaser of daughter Khushi K...</td>\n",
       "    </tr>\n",
       "  </tbody>\n",
       "</table>\n",
       "<p>100 rows × 3 columns</p>\n",
       "</div>"
      ],
      "text/plain": [
       "                                                title       category  \\\n",
       "0   Nikhil Chinapa shares video of cockroach on Vi...       business   \n",
       "1   Russia can destroy US, Europe within 30 minute...       business   \n",
       "2   'Make-in-India' record-breaker: Piyush Goyal a...       business   \n",
       "3   What are the rates at which employees are leav...       business   \n",
       "4   Tata Power hit by cyberattack, says 'all criti...       business   \n",
       "..                                                ...            ...   \n",
       "95      Film on RSS founder KB Hedgewar in the works   entertainment   \n",
       "96  Filmmaker Vishal Bhardwaj buys new luxury apar...  entertainment   \n",
       "97  It's an Indian spy-thriller without bikinis & ...  entertainment   \n",
       "98  Was told 'Why're you dancing? Look after the h...  entertainment   \n",
       "99  Nothing to criticise about Khushi's work in 'T...  entertainment   \n",
       "\n",
       "                                                 body  \n",
       "0   DJ Nikhil Chinapa has asked Vistara airline to...  \n",
       "1   The world's richest person Elon Musk on Saturd...  \n",
       "2   Union Commerce Minister Piyush Goyal lauded th...  \n",
       "3   Infosys has reported an attrition rate of 27.1...  \n",
       "4   Tata Power has confirmed that it was hit by a ...  \n",
       "..                                                ...  \n",
       "95  \\nA biopic on RSS founder KB Hedgewar is in ea...  \n",
       "96  Vishal Bhardwaj has reportedly purchased a new...  \n",
       "97  Actor Karthi, while speaking about his upcomin...  \n",
       "98  Actress Madhuri Dixit in an interview spoke ab...  \n",
       "99  After watching the teaser of daughter Khushi K...  \n",
       "\n",
       "[100 rows x 3 columns]"
      ]
     },
     "execution_count": 102,
     "metadata": {},
     "output_type": "execute_result"
    }
   ],
   "source": [
    "all_articles"
   ]
  },
  {
   "cell_type": "markdown",
   "metadata": {},
   "source": [
    "## Bonus: cache the data\n",
    "\n",
    "Write your code such that the acquired data is saved locally in some form or fashion. Your functions that retrieve the data should prefer to read the local data instead of having to make all the requests everytime the function is called. Include a boolean flag in the functions to allow the data to be acquired \"fresh\" from the actual sources (re-writing your local cache)."
   ]
  },
  {
   "cell_type": "code",
   "execution_count": 103,
   "metadata": {},
   "outputs": [],
   "source": [
    "all_articles.to_csv('news_articles.csv', index=False)"
   ]
  },
  {
   "cell_type": "code",
   "execution_count": 52,
   "metadata": {},
   "outputs": [
    {
     "data": {
      "text/html": [
       "<div>\n",
       "<style scoped>\n",
       "    .dataframe tbody tr th:only-of-type {\n",
       "        vertical-align: middle;\n",
       "    }\n",
       "\n",
       "    .dataframe tbody tr th {\n",
       "        vertical-align: top;\n",
       "    }\n",
       "\n",
       "    .dataframe thead th {\n",
       "        text-align: right;\n",
       "    }\n",
       "</style>\n",
       "<table border=\"1\" class=\"dataframe\">\n",
       "  <thead>\n",
       "    <tr style=\"text-align: right;\">\n",
       "      <th></th>\n",
       "      <th>title</th>\n",
       "      <th>category</th>\n",
       "      <th>body</th>\n",
       "    </tr>\n",
       "  </thead>\n",
       "  <tbody>\n",
       "    <tr>\n",
       "      <th>0</th>\n",
       "      <td>Nikhil Chinapa shares video of cockroach on Vi...</td>\n",
       "      <td>business</td>\n",
       "      <td>DJ Nikhil Chinapa has asked Vistara airline to...</td>\n",
       "    </tr>\n",
       "    <tr>\n",
       "      <th>1</th>\n",
       "      <td>'Make-in-India' record-breaker: Piyush Goyal a...</td>\n",
       "      <td>business</td>\n",
       "      <td>Union Commerce Minister Piyush Goyal lauded th...</td>\n",
       "    </tr>\n",
       "    <tr>\n",
       "      <th>2</th>\n",
       "      <td>Tata Power hit by cyberattack, says 'all criti...</td>\n",
       "      <td>business</td>\n",
       "      <td>Tata Power has confirmed that it was hit by a ...</td>\n",
       "    </tr>\n",
       "    <tr>\n",
       "      <th>3</th>\n",
       "      <td>What are the rates at which employees are leav...</td>\n",
       "      <td>business</td>\n",
       "      <td>Infosys has reported an attrition rate of 27.1...</td>\n",
       "    </tr>\n",
       "    <tr>\n",
       "      <th>4</th>\n",
       "      <td>Russia can destroy US, Europe within 30 minute...</td>\n",
       "      <td>business</td>\n",
       "      <td>The world's richest person Elon Musk on Saturd...</td>\n",
       "    </tr>\n",
       "    <tr>\n",
       "      <th>...</th>\n",
       "      <td>...</td>\n",
       "      <td>...</td>\n",
       "      <td>...</td>\n",
       "    </tr>\n",
       "    <tr>\n",
       "      <th>95</th>\n",
       "      <td>Filmmaker Vishal Bhardwaj buys new luxury apar...</td>\n",
       "      <td>entertainment</td>\n",
       "      <td>Vishal Bhardwaj has reportedly purchased a new...</td>\n",
       "    </tr>\n",
       "    <tr>\n",
       "      <th>96</th>\n",
       "      <td>John is a gentleman, was a pleasure to work wi...</td>\n",
       "      <td>entertainment</td>\n",
       "      <td>Actress Manushi Chhillar, speaking about her u...</td>\n",
       "    </tr>\n",
       "    <tr>\n",
       "      <th>97</th>\n",
       "      <td>I'm happy being single: Rajev on reports sayin...</td>\n",
       "      <td>entertainment</td>\n",
       "      <td>Actor Rajev Paul, ex-husband of actress Delnaa...</td>\n",
       "    </tr>\n",
       "    <tr>\n",
       "      <th>98</th>\n",
       "      <td>It's an Indian spy-thriller without bikinis &amp; ...</td>\n",
       "      <td>entertainment</td>\n",
       "      <td>Actor Karthi, while speaking about his upcomin...</td>\n",
       "    </tr>\n",
       "    <tr>\n",
       "      <th>99</th>\n",
       "      <td>After 'Delhi Crime 2', my son said I've become...</td>\n",
       "      <td>entertainment</td>\n",
       "      <td>Actress Shefali Shah revealed that after 'Delh...</td>\n",
       "    </tr>\n",
       "  </tbody>\n",
       "</table>\n",
       "<p>100 rows × 3 columns</p>\n",
       "</div>"
      ],
      "text/plain": [
       "                                                title       category  \\\n",
       "0   Nikhil Chinapa shares video of cockroach on Vi...       business   \n",
       "1   'Make-in-India' record-breaker: Piyush Goyal a...       business   \n",
       "2   Tata Power hit by cyberattack, says 'all criti...       business   \n",
       "3   What are the rates at which employees are leav...       business   \n",
       "4   Russia can destroy US, Europe within 30 minute...       business   \n",
       "..                                                ...            ...   \n",
       "95  Filmmaker Vishal Bhardwaj buys new luxury apar...  entertainment   \n",
       "96  John is a gentleman, was a pleasure to work wi...  entertainment   \n",
       "97  I'm happy being single: Rajev on reports sayin...  entertainment   \n",
       "98  It's an Indian spy-thriller without bikinis & ...  entertainment   \n",
       "99  After 'Delhi Crime 2', my son said I've become...  entertainment   \n",
       "\n",
       "                                                 body  \n",
       "0   DJ Nikhil Chinapa has asked Vistara airline to...  \n",
       "1   Union Commerce Minister Piyush Goyal lauded th...  \n",
       "2   Tata Power has confirmed that it was hit by a ...  \n",
       "3   Infosys has reported an attrition rate of 27.1...  \n",
       "4   The world's richest person Elon Musk on Saturd...  \n",
       "..                                                ...  \n",
       "95  Vishal Bhardwaj has reportedly purchased a new...  \n",
       "96  Actress Manushi Chhillar, speaking about her u...  \n",
       "97  Actor Rajev Paul, ex-husband of actress Delnaa...  \n",
       "98  Actor Karthi, while speaking about his upcomin...  \n",
       "99  Actress Shefali Shah revealed that after 'Delh...  \n",
       "\n",
       "[100 rows x 3 columns]"
      ]
     },
     "execution_count": 52,
     "metadata": {},
     "output_type": "execute_result"
    }
   ],
   "source": [
    "all_articles"
   ]
  },
  {
   "cell_type": "code",
   "execution_count": 51,
   "metadata": {},
   "outputs": [
    {
     "data": {
      "text/html": [
       "<div>\n",
       "<style scoped>\n",
       "    .dataframe tbody tr th:only-of-type {\n",
       "        vertical-align: middle;\n",
       "    }\n",
       "\n",
       "    .dataframe tbody tr th {\n",
       "        vertical-align: top;\n",
       "    }\n",
       "\n",
       "    .dataframe thead th {\n",
       "        text-align: right;\n",
       "    }\n",
       "</style>\n",
       "<table border=\"1\" class=\"dataframe\">\n",
       "  <thead>\n",
       "    <tr style=\"text-align: right;\">\n",
       "      <th></th>\n",
       "      <th>title</th>\n",
       "      <th>category</th>\n",
       "      <th>body</th>\n",
       "    </tr>\n",
       "  </thead>\n",
       "  <tbody>\n",
       "    <tr>\n",
       "      <th>0</th>\n",
       "      <td>Nikhil Chinapa shares video of cockroach on Vi...</td>\n",
       "      <td>business</td>\n",
       "      <td>DJ Nikhil Chinapa has asked Vistara airline to...</td>\n",
       "    </tr>\n",
       "    <tr>\n",
       "      <th>1</th>\n",
       "      <td>'Make-in-India' record-breaker: Piyush Goyal a...</td>\n",
       "      <td>business</td>\n",
       "      <td>Union Commerce Minister Piyush Goyal lauded th...</td>\n",
       "    </tr>\n",
       "    <tr>\n",
       "      <th>2</th>\n",
       "      <td>Tata Power hit by cyberattack, says 'all criti...</td>\n",
       "      <td>business</td>\n",
       "      <td>Tata Power has confirmed that it was hit by a ...</td>\n",
       "    </tr>\n",
       "    <tr>\n",
       "      <th>3</th>\n",
       "      <td>What are the rates at which employees are leav...</td>\n",
       "      <td>business</td>\n",
       "      <td>Infosys has reported an attrition rate of 27.1...</td>\n",
       "    </tr>\n",
       "    <tr>\n",
       "      <th>4</th>\n",
       "      <td>Russia can destroy US, Europe within 30 minute...</td>\n",
       "      <td>business</td>\n",
       "      <td>The world's richest person Elon Musk on Saturd...</td>\n",
       "    </tr>\n",
       "    <tr>\n",
       "      <th>...</th>\n",
       "      <td>...</td>\n",
       "      <td>...</td>\n",
       "      <td>...</td>\n",
       "    </tr>\n",
       "    <tr>\n",
       "      <th>95</th>\n",
       "      <td>Filmmaker Vishal Bhardwaj buys new luxury apar...</td>\n",
       "      <td>entertainment</td>\n",
       "      <td>Vishal Bhardwaj has reportedly purchased a new...</td>\n",
       "    </tr>\n",
       "    <tr>\n",
       "      <th>96</th>\n",
       "      <td>John is a gentleman, was a pleasure to work wi...</td>\n",
       "      <td>entertainment</td>\n",
       "      <td>Actress Manushi Chhillar, speaking about her u...</td>\n",
       "    </tr>\n",
       "    <tr>\n",
       "      <th>97</th>\n",
       "      <td>I'm happy being single: Rajev on reports sayin...</td>\n",
       "      <td>entertainment</td>\n",
       "      <td>Actor Rajev Paul, ex-husband of actress Delnaa...</td>\n",
       "    </tr>\n",
       "    <tr>\n",
       "      <th>98</th>\n",
       "      <td>It's an Indian spy-thriller without bikinis &amp; ...</td>\n",
       "      <td>entertainment</td>\n",
       "      <td>Actor Karthi, while speaking about his upcomin...</td>\n",
       "    </tr>\n",
       "    <tr>\n",
       "      <th>99</th>\n",
       "      <td>After 'Delhi Crime 2', my son said I've become...</td>\n",
       "      <td>entertainment</td>\n",
       "      <td>Actress Shefali Shah revealed that after 'Delh...</td>\n",
       "    </tr>\n",
       "  </tbody>\n",
       "</table>\n",
       "<p>100 rows × 3 columns</p>\n",
       "</div>"
      ],
      "text/plain": [
       "                                                title       category  \\\n",
       "0   Nikhil Chinapa shares video of cockroach on Vi...       business   \n",
       "1   'Make-in-India' record-breaker: Piyush Goyal a...       business   \n",
       "2   Tata Power hit by cyberattack, says 'all criti...       business   \n",
       "3   What are the rates at which employees are leav...       business   \n",
       "4   Russia can destroy US, Europe within 30 minute...       business   \n",
       "..                                                ...            ...   \n",
       "95  Filmmaker Vishal Bhardwaj buys new luxury apar...  entertainment   \n",
       "96  John is a gentleman, was a pleasure to work wi...  entertainment   \n",
       "97  I'm happy being single: Rajev on reports sayin...  entertainment   \n",
       "98  It's an Indian spy-thriller without bikinis & ...  entertainment   \n",
       "99  After 'Delhi Crime 2', my son said I've become...  entertainment   \n",
       "\n",
       "                                                 body  \n",
       "0   DJ Nikhil Chinapa has asked Vistara airline to...  \n",
       "1   Union Commerce Minister Piyush Goyal lauded th...  \n",
       "2   Tata Power has confirmed that it was hit by a ...  \n",
       "3   Infosys has reported an attrition rate of 27.1...  \n",
       "4   The world's richest person Elon Musk on Saturd...  \n",
       "..                                                ...  \n",
       "95  Vishal Bhardwaj has reportedly purchased a new...  \n",
       "96  Actress Manushi Chhillar, speaking about her u...  \n",
       "97  Actor Rajev Paul, ex-husband of actress Delnaa...  \n",
       "98  Actor Karthi, while speaking about his upcomin...  \n",
       "99  Actress Shefali Shah revealed that after 'Delh...  \n",
       "\n",
       "[100 rows x 3 columns]"
      ]
     },
     "execution_count": 51,
     "metadata": {},
     "output_type": "execute_result"
    }
   ],
   "source": [
    "df = pd.read_csv('news_articles.csv')\n",
    "df"
   ]
  },
  {
   "cell_type": "code",
   "execution_count": 105,
   "metadata": {},
   "outputs": [
    {
     "data": {
      "text/plain": [
       "<module 'acquire' from '/Users/sinao/codeup-data-science/natural-language-processing-exercises/acquire.py'>"
      ]
     },
     "execution_count": 105,
     "metadata": {},
     "output_type": "execute_result"
    }
   ],
   "source": [
    "reload(acquire)"
   ]
  },
  {
   "cell_type": "code",
   "execution_count": 107,
   "metadata": {},
   "outputs": [
    {
     "data": {
      "text/html": [
       "<div>\n",
       "<style scoped>\n",
       "    .dataframe tbody tr th:only-of-type {\n",
       "        vertical-align: middle;\n",
       "    }\n",
       "\n",
       "    .dataframe tbody tr th {\n",
       "        vertical-align: top;\n",
       "    }\n",
       "\n",
       "    .dataframe thead th {\n",
       "        text-align: right;\n",
       "    }\n",
       "</style>\n",
       "<table border=\"1\" class=\"dataframe\">\n",
       "  <thead>\n",
       "    <tr style=\"text-align: right;\">\n",
       "      <th></th>\n",
       "      <th>title</th>\n",
       "      <th>category</th>\n",
       "      <th>body</th>\n",
       "    </tr>\n",
       "  </thead>\n",
       "  <tbody>\n",
       "    <tr>\n",
       "      <th>0</th>\n",
       "      <td>Nikhil Chinapa shares video of cockroach on Vi...</td>\n",
       "      <td>business</td>\n",
       "      <td>DJ Nikhil Chinapa has asked Vistara airline to...</td>\n",
       "    </tr>\n",
       "    <tr>\n",
       "      <th>1</th>\n",
       "      <td>Russia can destroy US, Europe within 30 minute...</td>\n",
       "      <td>business</td>\n",
       "      <td>The world's richest person Elon Musk on Saturd...</td>\n",
       "    </tr>\n",
       "    <tr>\n",
       "      <th>2</th>\n",
       "      <td>'Make-in-India' record-breaker: Piyush Goyal a...</td>\n",
       "      <td>business</td>\n",
       "      <td>Union Commerce Minister Piyush Goyal lauded th...</td>\n",
       "    </tr>\n",
       "    <tr>\n",
       "      <th>3</th>\n",
       "      <td>What are the rates at which employees are leav...</td>\n",
       "      <td>business</td>\n",
       "      <td>Infosys has reported an attrition rate of 27.1...</td>\n",
       "    </tr>\n",
       "    <tr>\n",
       "      <th>4</th>\n",
       "      <td>Tata Power hit by cyberattack, says 'all criti...</td>\n",
       "      <td>business</td>\n",
       "      <td>Tata Power has confirmed that it was hit by a ...</td>\n",
       "    </tr>\n",
       "    <tr>\n",
       "      <th>...</th>\n",
       "      <td>...</td>\n",
       "      <td>...</td>\n",
       "      <td>...</td>\n",
       "    </tr>\n",
       "    <tr>\n",
       "      <th>95</th>\n",
       "      <td>Film on RSS founder KB Hedgewar in the works</td>\n",
       "      <td>entertainment</td>\n",
       "      <td>\\nA biopic on RSS founder KB Hedgewar is in ea...</td>\n",
       "    </tr>\n",
       "    <tr>\n",
       "      <th>96</th>\n",
       "      <td>Filmmaker Vishal Bhardwaj buys new luxury apar...</td>\n",
       "      <td>entertainment</td>\n",
       "      <td>Vishal Bhardwaj has reportedly purchased a new...</td>\n",
       "    </tr>\n",
       "    <tr>\n",
       "      <th>97</th>\n",
       "      <td>It's an Indian spy-thriller without bikinis &amp; ...</td>\n",
       "      <td>entertainment</td>\n",
       "      <td>Actor Karthi, while speaking about his upcomin...</td>\n",
       "    </tr>\n",
       "    <tr>\n",
       "      <th>98</th>\n",
       "      <td>Was told 'Why're you dancing? Look after the h...</td>\n",
       "      <td>entertainment</td>\n",
       "      <td>Actress Madhuri Dixit in an interview spoke ab...</td>\n",
       "    </tr>\n",
       "    <tr>\n",
       "      <th>99</th>\n",
       "      <td>Nothing to criticise about Khushi's work in 'T...</td>\n",
       "      <td>entertainment</td>\n",
       "      <td>After watching the teaser of daughter Khushi K...</td>\n",
       "    </tr>\n",
       "  </tbody>\n",
       "</table>\n",
       "<p>100 rows × 3 columns</p>\n",
       "</div>"
      ],
      "text/plain": [
       "                                                title       category  \\\n",
       "0   Nikhil Chinapa shares video of cockroach on Vi...       business   \n",
       "1   Russia can destroy US, Europe within 30 minute...       business   \n",
       "2   'Make-in-India' record-breaker: Piyush Goyal a...       business   \n",
       "3   What are the rates at which employees are leav...       business   \n",
       "4   Tata Power hit by cyberattack, says 'all criti...       business   \n",
       "..                                                ...            ...   \n",
       "95      Film on RSS founder KB Hedgewar in the works   entertainment   \n",
       "96  Filmmaker Vishal Bhardwaj buys new luxury apar...  entertainment   \n",
       "97  It's an Indian spy-thriller without bikinis & ...  entertainment   \n",
       "98  Was told 'Why're you dancing? Look after the h...  entertainment   \n",
       "99  Nothing to criticise about Khushi's work in 'T...  entertainment   \n",
       "\n",
       "                                                 body  \n",
       "0   DJ Nikhil Chinapa has asked Vistara airline to...  \n",
       "1   The world's richest person Elon Musk on Saturd...  \n",
       "2   Union Commerce Minister Piyush Goyal lauded th...  \n",
       "3   Infosys has reported an attrition rate of 27.1...  \n",
       "4   Tata Power has confirmed that it was hit by a ...  \n",
       "..                                                ...  \n",
       "95  \\nA biopic on RSS founder KB Hedgewar is in ea...  \n",
       "96  Vishal Bhardwaj has reportedly purchased a new...  \n",
       "97  Actor Karthi, while speaking about his upcomin...  \n",
       "98  Actress Madhuri Dixit in an interview spoke ab...  \n",
       "99  After watching the teaser of daughter Khushi K...  \n",
       "\n",
       "[100 rows x 3 columns]"
      ]
     },
     "execution_count": 107,
     "metadata": {},
     "output_type": "execute_result"
    }
   ],
   "source": [
    "df = acquire.get_news_articles()\n",
    "df"
   ]
  }
 ],
 "metadata": {
  "kernelspec": {
   "display_name": "Python 3.9.12 ('base')",
   "language": "python",
   "name": "python3"
  },
  "language_info": {
   "codemirror_mode": {
    "name": "ipython",
    "version": 3
   },
   "file_extension": ".py",
   "mimetype": "text/x-python",
   "name": "python",
   "nbconvert_exporter": "python",
   "pygments_lexer": "ipython3",
   "version": "3.9.12"
  },
  "orig_nbformat": 4,
  "vscode": {
   "interpreter": {
    "hash": "38cca0c38332a56087b24af0bc80247f4fced29cb4f7f437d91dc159adec9c4e"
   }
  }
 },
 "nbformat": 4,
 "nbformat_minor": 2
}
